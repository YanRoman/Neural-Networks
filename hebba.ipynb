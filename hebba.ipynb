{
 "cells": [
  {
   "cell_type": "code",
   "execution_count": 1,
   "id": "1954f29e",
   "metadata": {},
   "outputs": [],
   "source": [
    "import numpy as np"
   ]
  },
  {
   "cell_type": "code",
   "execution_count": 2,
   "id": "b4aa038d",
   "metadata": {},
   "outputs": [],
   "source": [
    "def func(x):\n",
    "    return -1 if x<=0 else 1"
   ]
  },
  {
   "cell_type": "code",
   "execution_count": 14,
   "id": "d6747f21",
   "metadata": {},
   "outputs": [],
   "source": [
    "\n",
    "w = np.array([0, 0])\n",
    "o = np.array([0])\n",
    "\n",
    "for i in range(len(inp)):\n",
    "    pred = func(np.dot(inp[i], w) + o)\n",
    "    w = w + inp[i] * pred\n",
    "    o = o - pred    "
   ]
  },
  {
   "cell_type": "code",
   "execution_count": 15,
   "id": "fee2b34a",
   "metadata": {},
   "outputs": [],
   "source": [
    "def go(inp):\n",
    "    pred = pred = func(np.dot(inp, w) + o)\n",
    "    return pred"
   ]
  },
  {
   "cell_type": "code",
   "execution_count": 19,
   "id": "79bbff7f",
   "metadata": {},
   "outputs": [
    {
     "name": "stdout",
     "output_type": "stream",
     "text": [
      "[ 4 -2]\n",
      "1\n",
      "-1\n",
      "-1\n",
      "1\n"
     ]
    }
   ],
   "source": [
    "inp = np.array([[-1, 1],\n",
    "                [1, -1],\n",
    "                [-1, 1],\n",
    "                [1, 1]])\n",
    "expected = np.array([[-1], [-1], [-1], [1]])\n",
    "\n",
    "\n",
    "    \n",
    "print(w)\n",
    "print(go([1, 1]))\n",
    "print(go([-1, -1]))\n",
    "print(go([0, 1]))\n",
    "print(go([1, 1]))"
   ]
  }
 ],
 "metadata": {
  "kernelspec": {
   "display_name": "Python 3 (ipykernel)",
   "language": "python",
   "name": "python3"
  },
  "language_info": {
   "codemirror_mode": {
    "name": "ipython",
    "version": 3
   },
   "file_extension": ".py",
   "mimetype": "text/x-python",
   "name": "python",
   "nbconvert_exporter": "python",
   "pygments_lexer": "ipython3",
   "version": "3.11.4"
  }
 },
 "nbformat": 4,
 "nbformat_minor": 5
}
