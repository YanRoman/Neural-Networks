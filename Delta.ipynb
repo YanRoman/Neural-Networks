{
 "cells": [
  {
   "cell_type": "markdown",
   "id": "5a4f67b0",
   "metadata": {},
   "source": [
    "# Дельта правило"
   ]
  },
  {
   "cell_type": "code",
   "execution_count": 18,
   "id": "3b9c3bc9",
   "metadata": {},
   "outputs": [],
   "source": [
    "import numpy as np"
   ]
  },
  {
   "cell_type": "code",
   "execution_count": 22,
   "id": "6dc57d08",
   "metadata": {},
   "outputs": [],
   "source": [
    "\n",
    "class Network:\n",
    "    \n",
    "    \n",
    "    def __init__(self):\n",
    "        self.w = np.random.uniform(size=(2, 1))\n",
    "        self.b = np.random.uniform(size=(1, 1))\n",
    "        \n",
    "    def func(self, x):\n",
    "        return 1 if x > 0 else 0\n",
    "    \n",
    "    def forward_feed(self, x):\n",
    "        out = np.dot(x, self.w) + self.b\n",
    "        out = [self.func(x) for x in out]\n",
    "        return out\n",
    "            \n",
    "    def train(self, learning_rate, epochs, x, y):\n",
    "        print(\"start training...\")\n",
    "        \n",
    "        for epoch in range(epochs):\n",
    "            out = self.forward_feed(x)\n",
    "            err = y - out\n",
    "            for item in err[:, np.newaxis] * x * learning_rate: self.w += item[:, np.newaxis] \n",
    "            for item in err[:, np.newaxis] * learning_rate: self.b += item[:, np.newaxis]\n",
    "\n",
    "        out = np.dot(x, self.w) + self.b\n",
    "        out = [func(x) for x in out]\n",
    "        accuracy = np.mean(out == y) * 100\n",
    "        print(epochs, \" epochs left..\")\n",
    "        print(\"accuracy: \", accuracy, '%') \n",
    "        \n",
    "    def sample(self, x):\n",
    "        return func(np.dot(x, self.w) + self.b)"
   ]
  },
  {
   "cell_type": "code",
   "execution_count": 23,
   "id": "4ebac280",
   "metadata": {},
   "outputs": [
    {
     "name": "stdout",
     "output_type": "stream",
     "text": [
      "start training...\n",
      "11  epochs left..\n",
      "accuracy:  100.0 %\n"
     ]
    }
   ],
   "source": [
    "learning_rate = 0.05\n",
    "epochs = 11\n",
    "\n",
    "x = np.array([[1,1], [1,0], [0, 1], [0, 0]])\n",
    "y = np.array([1,0, 0, 0])\n",
    "\n",
    "network = Network()\n",
    "network.train(learning_rate, epochs, x, y)"
   ]
  },
  {
   "cell_type": "code",
   "execution_count": 25,
   "id": "11d9f2ab",
   "metadata": {},
   "outputs": [
    {
     "name": "stdout",
     "output_type": "stream",
     "text": [
      "[1,1] :  1\n",
      "[1,0] :  0\n",
      "[0,1] :  0\n",
      "[0,0] :  0\n"
     ]
    }
   ],
   "source": [
    "print('[1,1] : ', network.sample([1,1]))\n",
    "print('[1,0] : ', network.sample([1,0]))\n",
    "print('[0,1] : ', network.sample([0,1]))\n",
    "print('[0,0] : ', network.sample([0,0]))"
   ]
  }
 ],
 "metadata": {
  "kernelspec": {
   "display_name": "Python 3 (ipykernel)",
   "language": "python",
   "name": "python3"
  },
  "language_info": {
   "codemirror_mode": {
    "name": "ipython",
    "version": 3
   },
   "file_extension": ".py",
   "mimetype": "text/x-python",
   "name": "python",
   "nbconvert_exporter": "python",
   "pygments_lexer": "ipython3",
   "version": "3.11.4"
  }
 },
 "nbformat": 4,
 "nbformat_minor": 5
}
