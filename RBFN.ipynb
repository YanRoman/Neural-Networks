{
 "cells": [
  {
   "cell_type": "code",
   "execution_count": 1,
   "id": "528b4371",
   "metadata": {},
   "outputs": [],
   "source": [
    "import numpy as np\n",
    "from sklearn.datasets import load_digits\n",
    "from sklearn.decomposition import PCA\n",
    "import plotly.graph_objects as go"
   ]
  },
  {
   "cell_type": "markdown",
   "id": "b5bbe4ae",
   "metadata": {},
   "source": [
    "# Алгоритм k-means"
   ]
  },
  {
   "cell_type": "code",
   "execution_count": 2,
   "id": "d4a991cc",
   "metadata": {},
   "outputs": [],
   "source": [
    "class KMeans:\n",
    "    \n",
    "    def fit(self, x, k, epochs):\n",
    "        centers = x[np.random.choice(len(x), k, replace=False)]\n",
    "        print(\"start training k-means, max epochs: \", epochs)\n",
    "        \n",
    "        for epoch in range(epochs):\n",
    "            \n",
    "            # Определение кластеров\n",
    "            clusters = [[] for _ in range(k)]    \n",
    "            for point in x:\n",
    "                distances = [np.linalg.norm(point - center) for center in centers]\n",
    "                cluster_index = distances.index(min(distances))\n",
    "                clusters[cluster_index].append(point)\n",
    "            \n",
    "            # Расчет новых центров\n",
    "            new_centers = []\n",
    "            for cluster in clusters:\n",
    "                cluster_sum = np.sum(cluster, axis=0)\n",
    "                new_center = cluster_sum / len(cluster)\n",
    "                new_centers.append(new_center)\n",
    "            \n",
    "            if np.array_equal(new_centers, centers):\n",
    "                print(\"epoch: \", epoch)\n",
    "                return clusters, centers\n",
    "            centers = new_centers\n",
    "    \n",
    "    \n",
    "    def show_graph(self, clusters, centers):\n",
    "        centers = np.array(centers)\n",
    "        fig = go.Figure()\n",
    "\n",
    "        #Отрисовка кластеров\n",
    "        for i in range(len(clusters)):\n",
    "            cluster = np.array(clusters[i])\n",
    "            fig.add_trace(go.Scatter(mode='markers',marker_size=5, name=i, marker_color=len(centers),\n",
    "                                     x=cluster[:, 0], y=cluster[:, 1]))\n",
    "            \n",
    "        #Отрисовка цетров\n",
    "        for j in range(len(centers)):\n",
    "            fig.add_trace(go.Scatter(showlegend=False, marker_size=30, marker_color=len(centers), mode = \"markers\",\n",
    "                                     name = f'center{j}',\n",
    "                                     x=[centers[j][0]], y=[centers[j][1]], marker_line=dict(color='black', width=3)))\n",
    "        fig.show()"
   ]
  },
  {
   "cell_type": "markdown",
   "id": "0c0ffc97",
   "metadata": {},
   "source": [
    "# RBF нейрон"
   ]
  },
  {
   "cell_type": "code",
   "execution_count": 3,
   "id": "20942627",
   "metadata": {},
   "outputs": [],
   "source": [
    "class RBF:\n",
    "    \n",
    "    \n",
    "    def __init__(self, center, std):\n",
    "        self.center = center\n",
    "        self.std = std\n",
    "        \n",
    "        \n",
    "    def gaussian(x):\n",
    "        return np.exp(-np.linanlg.norm(x-self.c) / (2 * self.std**2))"
   ]
  },
  {
   "cell_type": "markdown",
   "id": "af5feefd",
   "metadata": {},
   "source": [
    "# RBFN нейросеть"
   ]
  },
  {
   "cell_type": "code",
   "execution_count": 6,
   "id": "1e60f1e1",
   "metadata": {},
   "outputs": [],
   "source": [
    "class RBFN:\n",
    "    \n",
    "    \n",
    "    def __init__(self, data, size):\n",
    "        \n",
    "        # Инициализация весов\n",
    "        self.w_inp_hidden = np.random.uniform(size=(size[0], size[1]))\n",
    "        self.w_hidden_out = np.random.uniform(size=(size[1], size[2]))\n",
    "        \n",
    "        # Алгоритм k-means\n",
    "        self.kmeans = KMeans()\n",
    "        self.clusters, self.centers = self.kmeans.fit(data, size[1], 100)\n",
    "        \n",
    "        # Инициализация RBF нейронов\n",
    "        self.stds = []\n",
    "        for cluster, center in zip(self.clusters, self.centers):\n",
    "            std = np.sqrt(np.sum([np.linalg.norm(center - point) for point in cluster]) / len(cluster))\n",
    "            self.stds.append(std)\n",
    "            \n",
    "        self.rbfs = [RBF(center, std) for center, std in zip(self.centers, self.stds)]\n",
    "        \n",
    "        \n",
    "    def show_graph(self):\n",
    "        self.kmeans.show_graph(self.clusters, self.centers)\n",
    "        \n",
    "    def softmax(self, x):\n",
    "        exp_x = np.exp(x - np.max(x))\n",
    "        return exp_x / exp_x.sum()\n",
    "    \n",
    "    def feed_forward():\n",
    "        \n"
   ]
  },
  {
   "cell_type": "code",
   "execution_count": 8,
   "id": "e5164059",
   "metadata": {},
   "outputs": [
    {
     "name": "stdout",
     "output_type": "stream",
     "text": [
      "start training k-means, max epochs:  100\n",
      "epoch:  42\n",
      "CPU times: total: 2.84 s\n",
      "Wall time: 3.96 s\n"
     ]
    }
   ],
   "source": [
    "%%time\n",
    "# Загрузка и обработка данных MNIST\n",
    "data = load_digits().data\n",
    "pca = PCA(n_components=2)\n",
    "reduced_data = pca.fit_transform(data)\n",
    "\n",
    "#Создание RBFN\n",
    "rbfn = RBFN(reduced_data, [2, 10, 10])\n",
    "#rbfn.show_graph()\n",
    "\n"
   ]
  }
 ],
 "metadata": {
  "kernelspec": {
   "display_name": "Python 3 (ipykernel)",
   "language": "python",
   "name": "python3"
  },
  "language_info": {
   "codemirror_mode": {
    "name": "ipython",
    "version": 3
   },
   "file_extension": ".py",
   "mimetype": "text/x-python",
   "name": "python",
   "nbconvert_exporter": "python",
   "pygments_lexer": "ipython3",
   "version": "3.11.4"
  }
 },
 "nbformat": 4,
 "nbformat_minor": 5
}
