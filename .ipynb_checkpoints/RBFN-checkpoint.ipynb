{
 "cells": [
  {
   "cell_type": "code",
   "execution_count": 61,
   "id": "f61b0884",
   "metadata": {},
   "outputs": [],
   "source": [
    "import numpy as np\n",
    "from sklearn.datasets import load_digits\n",
    "from sklearn.decomposition import PCA\n",
    "import plotly.graph_objects as go"
   ]
  },
  {
   "cell_type": "code",
   "execution_count": 62,
   "id": "958244aa",
   "metadata": {},
   "outputs": [],
   "source": [
    "class KMeans:\n",
    "    \n",
    "    def fit(self, x, k, epochs):\n",
    "        centers = x[np.random.choice(len(x), k, replace=False)]\n",
    "        print(\"start training k-means, max epochs: \", epochs)\n",
    "        \n",
    "        for epoch in range(epochs):\n",
    "            \n",
    "            # Определение кластеров\n",
    "            clusters = [[] for _ in range(k)]    \n",
    "            for point in x:\n",
    "                distances = [np.linalg.norm(point - center) for center in centers]\n",
    "                cluster_index = distances.index(min(distances))\n",
    "                clusters[cluster_index].append(point)\n",
    "            \n",
    "            # Расчет новых центров\n",
    "            new_centers = []\n",
    "            for cluster in clusters:\n",
    "                cluster_sum = np.sum(cluster, axis=0)\n",
    "                new_center = cluster_sum / len(cluster)\n",
    "                new_centers.append(new_center)\n",
    "            \n",
    "            if np.array_equal(new_centers, centers):\n",
    "                print(\"epoch: \", epoch)\n",
    "                return clusters, centers\n",
    "            centers = new_centers\n",
    "    \n",
    "    \n",
    "    def show_graph(self, clusters, centers):\n",
    "        centers = np.array(centers)\n",
    "        fig = go.Figure()\n",
    "\n",
    "        #Отрисовка кластеров\n",
    "        for i in range(len(clusters)):\n",
    "            cluster = np.array(clusters[i])\n",
    "            fig.add_trace(go.Scatter(mode='markers',marker_size=5, name=i, marker_color=len(centers),\n",
    "                                     x=cluster[:, 0], y=cluster[:, 1]))\n",
    "            \n",
    "        #Отрисовка цетров\n",
    "        for j in range(len(centers)):\n",
    "            fig.add_trace(go.Scatter(showlegend=False, marker_size=30, marker_color=len(centers), mode = \"markers\",\n",
    "                                     name = f'center{j}',\n",
    "                                     x=[centers[j][0]], y=[centers[j][1]], marker_line=dict(color='black', width=3)))\n",
    "        fig.show()"
   ]
  },
  {
   "cell_type": "code",
   "execution_count": 75,
   "id": "99938a61",
   "metadata": {},
   "outputs": [],
   "source": [
    "class RBFN:\n",
    "    \n",
    "    \n",
    "    def __init__(self, data, size):\n",
    "        \n",
    "        # Инициализация весов\n",
    "        self.w_inp_hidden = np.random.uniform(size=(size[0], size[1]))\n",
    "        self.w_hidden_out = np.random.uniform(size=(size[1], size[2]))\n",
    "        \n",
    "        # Алгоритм k-means\n",
    "        self.kmeans = KMeans()\n",
    "        self.clusters, self.centers = self.kmeans.fit(data, size[1], 100)\n",
    "        \n",
    "        # Инициализация RBF нейронов\n",
    "        self.stds = []\n",
    "        for cluster, center in zip(clusters, centers):\n",
    "            std = np.sqrt(np.sum([np.linalg.norm(center - point) for point in cluster]) / len(cluster))\n",
    "            self.stds.append(std)\n",
    "            \n",
    "        self.rbfs = [RBF(center, std) for center, std in zip(self.centers, self.stds)]\n",
    "        \n",
    "        \n",
    "    def show_graph(self):\n",
    "        self.kmeans.show_graph(self.clusters, self.centers)"
   ]
  },
  {
   "cell_type": "code",
   "execution_count": 78,
   "id": "fc9fdf08",
   "metadata": {},
   "outputs": [],
   "source": [
    "class RBF:\n",
    "    \n",
    "    \n",
    "    def __init__(self, center, std):\n",
    "        self.center = center\n",
    "        self.std = std\n",
    "        \n",
    "        \n",
    "    def gaussian(x):\n",
    "        return np.exp(-np.linanlg.norm(x-self.c) / (2 * self.std**2))"
   ]
  },
  {
   "cell_type": "code",
   "execution_count": 85,
   "id": "f64f79c2",
   "metadata": {},
   "outputs": [
    {
     "name": "stdout",
     "output_type": "stream",
     "text": [
      "start training k-means, max epochs:  100\n",
      "epoch:  45\n"
     ]
    },
    {
     "data": {
      "text/plain": [
       "array([  9.20106575, -19.58457746])"
      ]
     },
     "execution_count": 85,
     "metadata": {},
     "output_type": "execute_result"
    }
   ],
   "source": [
    "# Загрузка и обработка данных MNIST\n",
    "data = load_digits().data\n",
    "pca = PCA(n_components=2)\n",
    "reduced_data = pca.fit_transform(data)\n",
    "\n",
    "#Создание RBFN\n",
    "rbfn = RBFN(reduced_data, [2, 10, 10])\n",
    "#rbfn.show_graph()\n",
    "\n"
   ]
  },
  {
   "cell_type": "code",
   "execution_count": null,
   "id": "575b7f57",
   "metadata": {},
   "outputs": [],
   "source": [
    "class RBF:\n",
    "    \n",
    "    \n",
    "    def __init__(self):\n",
    "        self.c = 1\n",
    "        self.std = 1\n",
    "        \n",
    "        \n",
    "    def gaussian(x):\n",
    "        return np.exp(-np.linanlg.norm(x-self.c) / (2 * self.std**2))"
   ]
  },
  {
   "cell_type": "code",
   "execution_count": null,
   "id": "1444d136",
   "metadata": {},
   "outputs": [],
   "source": [
    "class RBFN:\n",
    "    \n",
    "    \n",
    "    def __init__(self, size):\n",
    "        self.w_inp_hidden = np.random.uniform(size=(size[0], size[1]))\n",
    "        self.w_hidden_out = np.random.uniform(size=(size[1], size[2]))\n",
    "        \n",
    "        "
   ]
  },
  {
   "cell_type": "code",
   "execution_count": null,
   "id": "0223cd04",
   "metadata": {},
   "outputs": [],
   "source": [
    "x = np.array([[0, 0], [0, 1], [1, 0], [1, 1]])\n",
    "y = np.array([[0], [1], [1], [0]])\n",
    "\n",
    "rbfn = RBFN([2, 4, 1])\n",
    "\n",
    "kmeans = KMeans()\n",
    "kmeans.get_centers(x, 3, 100)"
   ]
  },
  {
   "cell_type": "code",
   "execution_count": null,
   "id": "ddf9afb2",
   "metadata": {},
   "outputs": [],
   "source": []
  },
  {
   "cell_type": "code",
   "execution_count": null,
   "id": "a3fe6330",
   "metadata": {},
   "outputs": [],
   "source": []
  },
  {
   "cell_type": "code",
   "execution_count": null,
   "id": "193f8677",
   "metadata": {},
   "outputs": [],
   "source": []
  }
 ],
 "metadata": {
  "kernelspec": {
   "display_name": "Python 3 (ipykernel)",
   "language": "python",
   "name": "python3"
  },
  "language_info": {
   "codemirror_mode": {
    "name": "ipython",
    "version": 3
   },
   "file_extension": ".py",
   "mimetype": "text/x-python",
   "name": "python",
   "nbconvert_exporter": "python",
   "pygments_lexer": "ipython3",
   "version": "3.11.4"
  }
 },
 "nbformat": 4,
 "nbformat_minor": 5
}
