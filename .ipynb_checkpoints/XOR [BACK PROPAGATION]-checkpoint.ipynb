{
 "cells": [
  {
   "cell_type": "markdown",
   "id": "2016a841",
   "metadata": {},
   "source": [
    "# Задача XOR, Обучение: обратное распространение ошибки\n",
    "\n",
    "* ###  Функция активации: $ f(x) = \\frac{1}{1 + e(-x)} $\n",
    "\n",
    "* ### Производная функции: $ f`(x) = f(x) * (1-f(x)) $\n",
    "\n",
    "* ### Локальный градиент: $ \\delta = e * f`(x) = e * f(x) * (1-f(x))$"
   ]
  },
  {
   "cell_type": "code",
   "execution_count": 4,
   "id": "4345190e",
   "metadata": {},
   "outputs": [],
   "source": [
    "import numpy as np\n",
    "\n",
    "class Network:\n",
    "    \n",
    "    def __init__(self, size):\n",
    "        self.learning_rate = 0.1\n",
    "        self.epochs = 10000\n",
    "        \n",
    "        self.input_layer_size = size[0]\n",
    "        self.hidden_layer_size = size[1]\n",
    "        self.output_layer_size = size[2]\n",
    "        \n",
    "        self.w_input_hidden = np.random.uniform(size=(self.input_layer_size, self.hidden_layer_size))\n",
    "        self.w_hidden_output = np.random.uniform(size=(self.hidden_layer_size, self.output_layer_size))\n",
    "\n",
    "        self.b_hidden = np.zeros((1, self.hidden_layer_size))\n",
    "        self.b_output = np.zeros((1, self.output_layer_size))\n",
    "        \n",
    "    def sigmoid(self, x):\n",
    "        return 1 / (1 + np.exp(-x))\n",
    "    \n",
    "    def d_sigmoid(self, x):\n",
    "        return x * (1 - x)\n",
    "    \n",
    "    def feed_forward(self, x):\n",
    "        hidden_layer_out = self.sigmoid(np.dot(x, self.w_input_hidden) + self.b_hidden)\n",
    "        output_layer_out = self.sigmoid(np.dot(hidden_layer_out, self.w_hidden_output) + self.b_output)\n",
    "        return (hidden_layer_out, output_layer_out)\n",
    "    \n",
    "    \n",
    "    def train(self, x, y):\n",
    "        \n",
    "        print(\"Test accuracy before training...\")\n",
    "        hidden_layer_out, output_layer_out = self.feed_forward(x) \n",
    "        predicted_classes = (output_layer_out > 0.5).astype(int)\n",
    "        accuracy = np.mean(predicted_classes == y)\n",
    "        print(f'Accuracy: {accuracy}')\n",
    "        \n",
    "        \n",
    "        print(\"Start training...\")\n",
    "        for epoch in range(self.epochs):\n",
    "            \n",
    "            # Feed forward\n",
    "            hidden_layer_out, output_layer_out = self.feed_forward(x) \n",
    "            \n",
    "            # Back propagation\n",
    "            err = y - output_layer_out\n",
    "            d_out = err * self.d_sigmoid(output_layer_out)\n",
    "            err_hidden = d_out.dot(self.w_hidden_output.T)\n",
    "            d_hidden = err_hidden * self.d_sigmoid(hidden_layer_out)\n",
    "            \n",
    "            #Change weights\n",
    "            self.w_hidden_output += hidden_layer_out.T.dot(d_out) * self.learning_rate\n",
    "            self.w_input_hidden += x.T.dot(d_hidden) * self.learning_rate\n",
    "            \n",
    "            self.b_hidden += np.sum(d_hidden, axis=0, keepdims=True) * self.learning_rate\n",
    "            self.b_output += np.sum(d_out, axis=0, keepdims=True) * self.learning_rate\n",
    "          \n",
    "        print(\"Training complete...\")\n",
    "        predicted_classes = (output_layer_out > 0.5).astype(int)\n",
    "        accuracy = np.mean(predicted_classes == y)\n",
    "        print(f'Accuracy: {accuracy}')\n",
    "        \n",
    "    def test_sample(self, x):\n",
    "        hidden_layer_out, output_layer_out = self.feed_forward(x) \n",
    "        return (output_layer_out > 0.5).astype(int)"
   ]
  },
  {
   "cell_type": "code",
   "execution_count": 5,
   "id": "f434b277",
   "metadata": {},
   "outputs": [
    {
     "name": "stdout",
     "output_type": "stream",
     "text": [
      "Test accuracy before training...\n",
      "Accuracy: 0.5\n",
      "Start training...\n",
      "Training complete...\n",
      "Accuracy: 0.75\n"
     ]
    }
   ],
   "source": [
    "x = np.array([[0, 0], [0, 1], [1, 0], [1, 1]])\n",
    "y = np.array([[0], [1], [1], [0]])\n",
    "\n",
    "network = Network([2, 6, 1])\n",
    "network.train(x, y)"
   ]
  },
  {
   "cell_type": "code",
   "execution_count": 6,
   "id": "82bd7e3d",
   "metadata": {},
   "outputs": [
    {
     "name": "stdout",
     "output_type": "stream",
     "text": [
      "[[0]]\n",
      "[[1]]\n",
      "[[1]]\n",
      "[[1]]\n"
     ]
    }
   ],
   "source": [
    "print(network.test_sample(x[0]))\n",
    "print(network.test_sample(x[1]))\n",
    "print(network.test_sample(x[2]))\n",
    "print(network.test_sample(x[3]))"
   ]
  },
  {
   "cell_type": "code",
   "execution_count": null,
   "id": "6fc0be40",
   "metadata": {},
   "outputs": [],
   "source": []
  }
 ],
 "metadata": {
  "kernelspec": {
   "display_name": "Python 3 (ipykernel)",
   "language": "python",
   "name": "python3"
  },
  "language_info": {
   "codemirror_mode": {
    "name": "ipython",
    "version": 3
   },
   "file_extension": ".py",
   "mimetype": "text/x-python",
   "name": "python",
   "nbconvert_exporter": "python",
   "pygments_lexer": "ipython3",
   "version": "3.11.4"
  }
 },
 "nbformat": 4,
 "nbformat_minor": 5
}
